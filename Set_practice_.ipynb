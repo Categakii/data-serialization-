{
  "nbformat": 4,
  "nbformat_minor": 0,
  "metadata": {
    "colab": {
      "provenance": [],
      "toc_visible": true,
      "authorship_tag": "ABX9TyP7tbzT/Kk8D7qAbfVKf0Om",
      "include_colab_link": true
    },
    "kernelspec": {
      "name": "python3",
      "display_name": "Python 3"
    },
    "language_info": {
      "name": "python"
    }
  },
  "cells": [
    {
      "cell_type": "markdown",
      "metadata": {
        "id": "view-in-github",
        "colab_type": "text"
      },
      "source": [
        "<a href=\"https://colab.research.google.com/github/Categakii/data-serialization-/blob/main/Set_practice_.ipynb\" target=\"_parent\"><img src=\"https://colab.research.google.com/assets/colab-badge.svg\" alt=\"Open In Colab\"/></a>"
      ]
    },
    {
      "cell_type": "markdown",
      "source": [
        "Mutinda established that 3 main risk factors with chronic kidney desease were diabetes, obsesity, and hypertension. Sh e picked a random sample 900 adults. She observed that 59 had hypertension while 72 were obesity, 26 had both hypertension & diabetes & 15 had all of 3 of them 34, had obesity only, while those with both hypertension & obesity were 25. Those with either hypertension or diabetes were 101"
      ],
      "metadata": {
        "id": "dZG07QTWMgA8"
      }
    },
    {
      "cell_type": "markdown",
      "source": [
        "u=union==a|b=whole \n",
        "∩=intersection==a&b=wherethey are inteceding\n",
        "exclusion==a-b"
      ],
      "metadata": {
        "id": "NtY9uRCbNUIi"
      }
    },
    {
      "cell_type": "code",
      "source": [
        "import pandas as pd\n",
        "import numpy as np\n",
        "n=900"
      ],
      "metadata": {
        "id": "tMte5fXqLXXL"
      },
      "execution_count": null,
      "outputs": []
    },
    {
      "cell_type": "markdown",
      "source": [
        "# 1. How many respondent had atleast one risk factor "
      ],
      "metadata": {
        "id": "8YhD9PB4MoN6"
      }
    },
    {
      "cell_type": "code",
      "source": [
        "h={22,11,10,15}\n",
        "d={11,15,13,29}\n",
        "o={10,15,13,34}"
      ],
      "metadata": {
        "id": "_75mAm1XHhs9"
      },
      "execution_count": null,
      "outputs": []
    },
    {
      "cell_type": "code",
      "source": [
        "union=h|d|o # union "
      ],
      "metadata": {
        "id": "I8jhSW5mIEk2"
      },
      "execution_count": null,
      "outputs": []
    },
    {
      "cell_type": "code",
      "source": [
        "my_array = np.array(list(union))\n",
        "sum=np.sum(my_array)\n",
        "sum"
      ],
      "metadata": {
        "colab": {
          "base_uri": "https://localhost:8080/"
        },
        "id": "L-sNEU6OILoi",
        "outputId": "06982fa4-24e2-4089-b7b5-7b0e39658e73"
      },
      "execution_count": null,
      "outputs": [
        {
          "output_type": "execute_result",
          "data": {
            "text/plain": [
              "134"
            ]
          },
          "metadata": {},
          "execution_count": 24
        }
      ]
    },
    {
      "cell_type": "markdown",
      "source": [
        "# 2 How many respondent ad hypertension & diabetes  but not obese"
      ],
      "metadata": {
        "id": "3KBHxlqPLSM2"
      }
    },
    {
      "cell_type": "code",
      "source": [
        "h&d-o"
      ],
      "metadata": {
        "colab": {
          "base_uri": "https://localhost:8080/"
        },
        "id": "RKNUeL8GLS3y",
        "outputId": "b8495cb6-79ae-4be9-d614-a00628716038"
      },
      "execution_count": null,
      "outputs": [
        {
          "output_type": "execute_result",
          "data": {
            "text/plain": [
              "{11}"
            ]
          },
          "metadata": {},
          "execution_count": 25
        }
      ]
    },
    {
      "cell_type": "markdown",
      "source": [
        "# 3. How many respondent had diabetes only"
      ],
      "metadata": {
        "id": "nAZlVjutNyyC"
      }
    },
    {
      "cell_type": "code",
      "source": [
        "d-o-h"
      ],
      "metadata": {
        "colab": {
          "base_uri": "https://localhost:8080/"
        },
        "id": "BNvQoxHJOA5d",
        "outputId": "06638302-f383-4d1d-f0d0-f6cfae37d4f1"
      },
      "execution_count": null,
      "outputs": [
        {
          "output_type": "execute_result",
          "data": {
            "text/plain": [
              "{29}"
            ]
          },
          "metadata": {},
          "execution_count": 26
        }
      ]
    },
    {
      "cell_type": "markdown",
      "source": [
        "# 4. How many respondent had non of the above"
      ],
      "metadata": {
        "id": "WvLz1XpGONDf"
      }
    },
    {
      "cell_type": "code",
      "source": [
        "n-sum"
      ],
      "metadata": {
        "colab": {
          "base_uri": "https://localhost:8080/"
        },
        "id": "cXEnW9ExOfwn",
        "outputId": "1bd4ac98-0378-418c-f001-e6ceeb49bf3d"
      },
      "execution_count": null,
      "outputs": [
        {
          "output_type": "execute_result",
          "data": {
            "text/plain": [
              "766"
            ]
          },
          "metadata": {},
          "execution_count": 27
        }
      ]
    }
  ]
}